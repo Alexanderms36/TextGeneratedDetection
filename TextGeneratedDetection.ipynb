{
 "cells": [
  {
   "cell_type": "code",
   "execution_count": 1,
   "id": "93a54634-e2a5-49db-960d-a8b911d4dd6a",
   "metadata": {},
   "outputs": [],
   "source": [
    "import numpy\n",
    "import pandas as pd\n",
    "import tensorflow as tf\n",
    "import matplotlib.pyplot as plt\n",
    "import tensorflow_text as text\n",
    "import tensorflow_hub"
   ]
  },
  {
   "cell_type": "code",
   "execution_count": 5,
   "id": "dad186d2-7f19-4ed5-b1e0-82fa4244c742",
   "metadata": {},
   "outputs": [
    {
     "name": "stderr",
     "output_type": "stream",
     "text": [
      "d:\\progdata\\anaconda\\envs\\ml\\lib\\site-packages\\numpy\\core\\fromnumeric.py:59: FutureWarning: 'DataFrame.swapaxes' is deprecated and will be removed in a future version. Please use 'DataFrame.transpose' instead.\n",
      "  return bound(*args, **kwds)\n"
     ]
    },
    {
     "data": {
      "text/html": [
       "<div>\n",
       "<style scoped>\n",
       "    .dataframe tbody tr th:only-of-type {\n",
       "        vertical-align: middle;\n",
       "    }\n",
       "\n",
       "    .dataframe tbody tr th {\n",
       "        vertical-align: top;\n",
       "    }\n",
       "\n",
       "    .dataframe thead th {\n",
       "        text-align: right;\n",
       "    }\n",
       "</style>\n",
       "<table border=\"1\" class=\"dataframe\">\n",
       "  <thead>\n",
       "    <tr style=\"text-align: right;\">\n",
       "      <th></th>\n",
       "      <th>label</th>\n",
       "      <th>ans_text</th>\n",
       "    </tr>\n",
       "  </thead>\n",
       "  <tbody>\n",
       "    <tr>\n",
       "      <th>4043</th>\n",
       "      <td>hu_answer</td>\n",
       "      <td>We'll combine graph-theory and probability:\\nO...</td>\n",
       "    </tr>\n",
       "    <tr>\n",
       "      <th>2440</th>\n",
       "      <td>ai_answer</td>\n",
       "      <td>Ну что ж, молодежь сегодня такая духовная! Есл...</td>\n",
       "    </tr>\n",
       "    <tr>\n",
       "      <th>3026</th>\n",
       "      <td>hu_answer</td>\n",
       "      <td>Начнём с шутки:\\n\"Он пришёл на свидание с саже...</td>\n",
       "    </tr>\n",
       "    <tr>\n",
       "      <th>867</th>\n",
       "      <td>hu_answer</td>\n",
       "      <td>That's because you use the .NET 4.0 version of...</td>\n",
       "    </tr>\n",
       "    <tr>\n",
       "      <th>3083</th>\n",
       "      <td>hu_answer</td>\n",
       "      <td>В одной хорошей книге встретила такое выражени...</td>\n",
       "    </tr>\n",
       "  </tbody>\n",
       "</table>\n",
       "</div>"
      ],
      "text/plain": [
       "          label                                           ans_text\n",
       "4043  hu_answer  We'll combine graph-theory and probability:\\nO...\n",
       "2440  ai_answer  Ну что ж, молодежь сегодня такая духовная! Есл...\n",
       "3026  hu_answer  Начнём с шутки:\\n\"Он пришёл на свидание с саже...\n",
       "867   hu_answer  That's because you use the .NET 4.0 version of...\n",
       "3083  hu_answer  В одной хорошей книге встретила такое выражени..."
      ]
     },
     "execution_count": 5,
     "metadata": {},
     "output_type": "execute_result"
    }
   ],
   "source": [
    "def clean_df(df):\n",
    "    df = df.drop(['q_title', 'q_id', 'line_id'], axis=1)\n",
    "    return df\n",
    "\n",
    "train_src = \"./codenrock_ds/TextGenerationDetection/train.csv\"\n",
    "test_src = \"./codenrock_ds/TextGenerationDetection/test.csv\"\n",
    "df = pd.read_csv(train_src)\n",
    "testing_df = pd.read_csv(test_src)\n",
    "\n",
    "df = clean_df(df)\n",
    "testing_df = clean_df(testing_df)\n",
    "train, valid, test = numpy.split(df.sample(frac=1), [int(0.6 * len(df)), int(0.8 * len(df))])\n",
    "train.head()"
   ]
  },
  {
   "cell_type": "code",
   "execution_count": 6,
   "id": "8e7d66dc-f831-4015-9827-f72b46e902fe",
   "metadata": {},
   "outputs": [],
   "source": [
    "def scale_dataset(data):\n",
    "    data[\"label\"] = (data[\"label\"] == \"hu_answer\").astype(int)\n",
    "    y = data[data.columns[0]].values\n",
    "    X = data.drop(data.columns[0], axis=1).values\n",
    "    data = numpy.hstack((X, numpy.reshape(y, (-1, 1))))\n",
    "    \n",
    "    return data, X, y"
   ]
  },
  {
   "cell_type": "code",
   "execution_count": 7,
   "id": "12e8de8c",
   "metadata": {},
   "outputs": [],
   "source": [
    "train_data, X_train, y_train = scale_dataset(train)\n",
    "valid_data, X_valid, y_valid = scale_dataset(valid)\n",
    "test_data, X_test, y_test = scale_dataset(train)"
   ]
  },
  {
   "cell_type": "code",
   "execution_count": 8,
   "id": "ae1715ff",
   "metadata": {},
   "outputs": [],
   "source": [
    "bert_preprocess = tensorflow_hub.KerasLayer(\"https://tfhub.dev/tensorflow/bert_en_uncased_preprocess/3\")\n",
    "bert_encoder = tensorflow_hub.KerasLayer(\"https://tfhub.dev/tensorflow/bert_en_uncased_L-12_H-768_A-12/4\")"
   ]
  },
  {
   "cell_type": "code",
   "execution_count": 6,
   "id": "6a1f95d4",
   "metadata": {},
   "outputs": [],
   "source": [
    "text_input = tf.keras.layers.Input(shape=(), dtype=tf.string, name=\"text\")\n",
    "preprocessed_text = bert_preprocess(text_input)\n",
    "outputs = bert_encoder(preprocessed_text)\n",
    "\n",
    "layer = tf.keras.layers.Dropout(0.1, name='dropout')(outputs['pooled_output'])\n",
    "layer = tf.keras.layers.Dense(1, activation='sigmoid', name='output')(layer)\n",
    "\n",
    "model = tf.keras.Model(inputs=[text_input], outputs=[layer])\n"
   ]
  },
  {
   "cell_type": "code",
   "execution_count": 7,
   "id": "1159619f",
   "metadata": {},
   "outputs": [],
   "source": [
    "model.compile(\n",
    "    optimizer='adam',\n",
    "    loss='binary_crossentropy',\n",
    "    metrics='accuracy'\n",
    ")"
   ]
  },
  {
   "cell_type": "code",
   "execution_count": null,
   "id": "5214bdcb",
   "metadata": {},
   "outputs": [],
   "source": [
    "model.fit(X_train, y_train, epochs=12)\n",
    "val_loss = model.evaluate(X_valid, y_valid)[0]"
   ]
  },
  {
   "cell_type": "code",
   "execution_count": 2,
   "id": "57ec669d",
   "metadata": {},
   "outputs": [],
   "source": [
    "model = tf.keras.models.load_model('newest_model')"
   ]
  },
  {
   "cell_type": "code",
   "execution_count": null,
   "id": "dada3088",
   "metadata": {},
   "outputs": [],
   "source": []
  },
  {
   "cell_type": "code",
   "execution_count": 16,
   "id": "8e601e9f",
   "metadata": {},
   "outputs": [
    {
     "data": {
      "text/plain": [
       "array([['The error code 215 in Twitter API indicates that the authentication data provided is invalid or expired. This error can occur due to various reasons, such as incorrect consumer key or secret, access token or secret, or expired access token. To resolve this issue, you need to ensure that the authentication data provided is correct and up-to-date. You can regenerate the access token and secret from the Twitter developer dashboard and update them in your application. Additionally, make sure that the time and date on your device are correct, as an incorrect time can also cause authentication errors.',\n",
       "        0],\n",
       "       ['A modal view will cover the view it is pushed on top of as well as the navigation bar for your navigation controller. However, if you use the -presentModalViewController:animated: approach, then once the animation finishes the view just covered will actually disappear, which makes any transparency of your modal view pointless. (You can verify this by implementing the -viewWillDisappear: and -viewDidDisappear: methods in your root view controller).\\nYou can add the modal view directly to the view hierarchy like so:\\nUIView *modalView =\\n    [[[UIView alloc] initWithFrame:[[UIScreen mainScreen] bounds]] autorelease];\\nmodalView.opaque = NO;\\nmodalView.backgroundColor =\\n    [[UIColor blackColor] colorWithAlphaComponent:0.5f];\\n\\nUILabel *label = [[[UILabel alloc] init] autorelease];\\nlabel.text = @\"Modal View\";\\nlabel.textColor = [UIColor whiteColor];\\nlabel.backgroundColor = [UIColor clearColor];\\nlabel.opaque = NO;\\n[label sizeToFit];\\n[label setCenter:CGPointMake(modalView.frame.size.width / 2,\\n                                modalView.frame.size.height / 2)];\\n[modalView addSubview:label];\\n\\n[self.view addSubview:modalView];\\n\\n\\nAdding the modalView as a subview to the root view like this will not actually cover the navigation bar, but it will cover the entire view below it. I tried playing around with the origin of the frame used to init the modalView, but negative values cause it to not display. The best method that I found to cover the entire screen besides the status bar is to add the modalView as a subview of the window itself:\\nTransparentModalViewAppDelegate *delegate = (TransparentModalViewAppDelegate *)[UIApplication sharedApplication].delegate;\\n[delegate.window addSubview:modalView];\\n\\n\\n',\n",
       "        1],\n",
       "       ['One way to ensure that a C# .net app runs only one instance in Windows is to use a named mutex. A named mutex is a synchronization object that can be used to limit access to a shared resource, in this case, the app itself. \\n\\nTo implement this, you can create a named mutex in the Main method of your application, before any other code is executed. You can then check if the mutex already exists, and if it does, exit the application. If it doesn\\'t exist, create it and continue running the application. \\n\\nHere\\'s an example code snippet:\\n\\n```\\nstatic void Main(string[] args)\\n{\\n    bool createdNew;\\n    Mutex mutex = new Mutex(true, \"MyAppMutex\", out createdNew);\\n\\n    if (!createdNew)\\n    {\\n        // Another instance of the app is already running\\n        return;\\n    }\\n\\n    // Continue running the application\\n    // ...\\n}\\n```\\n\\nNote that the name of the mutex (\"MyAppMutex\" in this example) should be unique to your application to avoid conflicts with other applications.',\n",
       "        0],\n",
       "       ...,\n",
       "       ['To implement basic drag and drop functionality in iOS, you can use the built-in drag and drop APIs provided by Apple. \\n\\nFirst, you need to enable drag and drop in your app by setting the `isUserInteractionEnabled` property of the view you want to drag from to `true`. Then, you need to implement the `UIDragInteractionDelegate` protocol to handle the drag interaction.\\n\\nIn the `UIDragInteractionDelegate` protocol, you need to implement the `itemsForBeginning` method to provide the items that will be dragged. You can create a `UIDragItem` object for each item you want to drag and set its `localObject` property to the data you want to transfer.\\n\\nNext, you need to implement the `UIDropInteractionDelegate` protocol to handle the drop interaction. In the `UIDropInteractionDelegate` protocol, you need to implement the `performDrop` method to handle the dropped items. You can access the dropped items using the `items` property of the `UIDropInteraction` object.\\n\\nOverall, implementing basic drag and drop functionality in iOS requires enabling drag and drop, implementing the `UIDragInteractionDelegate` protocol to handle the drag interaction, and implementing the `UIDropInteractionDelegate` protocol to handle the drop interaction.',\n",
       "        0],\n",
       "       [\"All apps will continue to work in the vertically stretched screen from what I could tell in today's presentation. They will be letterboxed or basically the extra 88 points in height would simply be black.\\nIf you only plan to support iOS 6+, then definitely consider using Auto Layout. It removes all fixed layout handling and instead uses constraints to lay things out. Nothing will be hard-coded, and your life will become a lot simpler.\\nHowever, if you have to support older iOS's, then it really depends on your application. A majority of applications that use a standard navigation bar, and/or tab bar, could simply expand the content in the middle to use up that extra points. Set the autoresizing mask of the center content to expand in both directions.\\nview.autoresizingMask = UIViewAutoresizingFlexibleWidth | UIViewAutoresizingFlexibleHeight;\\n\\n\\nIt works great out of the box for table views, however, if your app used pixel-perfect layout for displaying content, then your best bet would be to re-imagine the content so that it can accommodate varying heights.\\nIf that's not a possibility, then the only remaining option is to have two UIs (pre iPhone 5, and iPhone 5).\\nIf that sounds ugly, then you could go with the default letterboxed model where the extra points/pixels just show up black.\\nEdit\\n\\nTo enable your apps to work with iPhone 5, you need to add a retina version of the launcher image. It should be named Default-568h@2x.png\\n. And it has to be retina quality - there's no backward compatibility here :) \\nYou could also select this image from within Xcode. Go to the target, and under the Summary section, look for Launch Images. The image has to be 640x1136 pixels in size. Here's a screenshot of where to find it, if that helps.\\n\\n\\n\",\n",
       "        1],\n",
       "       [\"It's a combination of Boyer-Moore\\nand Horspool\\n.\\nYou can view the C code here\\n:\\nFast search/count implementation, based on a mix between Boyer-Moore and Horspool, with a few more bells and whistles on the top. For some more background, see: https://web.archive.org/web/20201107074620/http://effbot.org/zone/stringlib.htm\\n.\\n\\nFrom the link above:\\nWhen designing the new algorithm, I used the following constraints:\\nshould be faster than the current brute-force algorithm for all test cases (based on real-life code), including Jim Hugunin’s worst-case test\\nsmall setup overhead; no dynamic allocation in the fast path (O(m) for speed, O(1) for storage)\\nsublinear search behaviour in good cases (O(n/m))\\nno worse than the current algorithm in worst case (O(nm))\\nshould work well for both 8-bit strings and 16-bit or 32-bit Unicode strings (no O(σ) dependencies)\\nmany real-life searches should be good, very few should be worst case\\nreasonably simple implementation\\n\\n\\n\",\n",
       "        1]], dtype=object)"
      ]
     },
     "execution_count": 16,
     "metadata": {},
     "output_type": "execute_result"
    }
   ],
   "source": [
    "valid_data"
   ]
  },
  {
   "cell_type": "code",
   "execution_count": 22,
   "id": "e711e464",
   "metadata": {},
   "outputs": [
    {
     "name": "stdout",
     "output_type": "stream",
     "text": [
      "1/1 [==============================] - 1s 687ms/step\n",
      "human\n"
     ]
    }
   ],
   "source": [
    "yet_another_q = model.predict([\"я нейронная сеть\"])\n",
    "print(\"human\" if yet_another_q >= 0.5 else \"ai\")"
   ]
  },
  {
   "cell_type": "code",
   "execution_count": 9,
   "id": "43ddcbc2",
   "metadata": {},
   "outputs": [
    {
     "name": "stdout",
     "output_type": "stream",
     "text": [
      "91/91 [==============================] - 948s 10s/step\n"
     ]
    }
   ],
   "source": [
    "from sklearn.metrics import classification_report\n",
    "y_train_predict = model.predict(X_train)"
   ]
  },
  {
   "cell_type": "code",
   "execution_count": 14,
   "id": "70eea599",
   "metadata": {},
   "outputs": [
    {
     "name": "stdout",
     "output_type": "stream",
     "text": [
      "              precision    recall  f1-score   support\n",
      "\n",
      "           0       0.66      0.81      0.72      1181\n",
      "           1       0.84      0.71      0.77      1710\n",
      "\n",
      "    accuracy                           0.75      2891\n",
      "   macro avg       0.75      0.76      0.75      2891\n",
      "weighted avg       0.77      0.75      0.75      2891\n",
      "\n"
     ]
    }
   ],
   "source": [
    "y_binary = numpy.where(y_train_predict > 0.5, 1, 0)\n",
    "report = classification_report(y_binary, y_train)\n",
    "print(report)"
   ]
  },
  {
   "cell_type": "code",
   "execution_count": 15,
   "id": "f8cfda8c",
   "metadata": {},
   "outputs": [
    {
     "name": "stdout",
     "output_type": "stream",
     "text": [
      "31/31 [==============================] - 338s 11s/step\n"
     ]
    }
   ],
   "source": [
    "y_check = model.predict(X_valid)"
   ]
  },
  {
   "cell_type": "code",
   "execution_count": 16,
   "id": "ffd8edcc",
   "metadata": {},
   "outputs": [],
   "source": [
    "y_check_binary = numpy.where(y_check >= 0.5, 1, 0)\n",
    "valid_report = classification_report(y_check_binary, y_valid)\n",
    "print(valid_report)"
   ]
  },
  {
   "cell_type": "code",
   "execution_count": null,
   "id": "cfd2d3ca",
   "metadata": {},
   "outputs": [],
   "source": []
  }
 ],
 "metadata": {
  "kernelspec": {
   "display_name": "Python 3 (ipykernel)",
   "language": "python",
   "name": "python3"
  },
  "language_info": {
   "codemirror_mode": {
    "name": "ipython",
    "version": 3
   },
   "file_extension": ".py",
   "mimetype": "text/x-python",
   "name": "python",
   "nbconvert_exporter": "python",
   "pygments_lexer": "ipython3",
   "version": "3.10.13"
  }
 },
 "nbformat": 4,
 "nbformat_minor": 5
}
