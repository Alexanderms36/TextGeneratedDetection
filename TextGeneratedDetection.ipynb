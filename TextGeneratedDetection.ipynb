{
 "cells": [
  {
   "cell_type": "code",
   "execution_count": 2,
   "id": "93a54634-e2a5-49db-960d-a8b911d4dd6a",
   "metadata": {},
   "outputs": [],
   "source": [
    "import numpy\n",
    "import pandas as pd\n",
    "import tensorflow as tf\n",
    "import matplotlib.pyplot as plt\n",
    "import tensorflow_text as tft\n",
    "import tensorflow_hub"
   ]
  },
  {
   "cell_type": "code",
   "execution_count": 3,
   "id": "dad186d2-7f19-4ed5-b1e0-82fa4244c742",
   "metadata": {},
   "outputs": [
    {
     "name": "stderr",
     "output_type": "stream",
     "text": [
      "d:\\progdata\\anaconda\\envs\\djangoNS\\lib\\site-packages\\numpy\\core\\fromnumeric.py:59: FutureWarning: 'DataFrame.swapaxes' is deprecated and will be removed in a future version. Please use 'DataFrame.transpose' instead.\n",
      "  return bound(*args, **kwds)\n"
     ]
    },
    {
     "data": {
      "text/html": [
       "<div>\n",
       "<style scoped>\n",
       "    .dataframe tbody tr th:only-of-type {\n",
       "        vertical-align: middle;\n",
       "    }\n",
       "\n",
       "    .dataframe tbody tr th {\n",
       "        vertical-align: top;\n",
       "    }\n",
       "\n",
       "    .dataframe thead th {\n",
       "        text-align: right;\n",
       "    }\n",
       "</style>\n",
       "<table border=\"1\" class=\"dataframe\">\n",
       "  <thead>\n",
       "    <tr style=\"text-align: right;\">\n",
       "      <th></th>\n",
       "      <th>label</th>\n",
       "      <th>ans_text</th>\n",
       "    </tr>\n",
       "  </thead>\n",
       "  <tbody>\n",
       "    <tr>\n",
       "      <th>3816</th>\n",
       "      <td>ai_answer</td>\n",
       "      <td>Привет! Я бы посоветовал прочитать книгу \"Моск...</td>\n",
       "    </tr>\n",
       "    <tr>\n",
       "      <th>2920</th>\n",
       "      <td>hu_answer</td>\n",
       "      <td>Про идентичность. )\\nЯ как-то проектировала в ...</td>\n",
       "    </tr>\n",
       "    <tr>\n",
       "      <th>272</th>\n",
       "      <td>hu_answer</td>\n",
       "      <td>By manually computing the similarity and playi...</td>\n",
       "    </tr>\n",
       "    <tr>\n",
       "      <th>4397</th>\n",
       "      <td>ai_answer</td>\n",
       "      <td>LINQ methods have different run-time complexit...</td>\n",
       "    </tr>\n",
       "    <tr>\n",
       "      <th>3146</th>\n",
       "      <td>ai_answer</td>\n",
       "      <td>Yes, it is possible to use a Twitter timeline ...</td>\n",
       "    </tr>\n",
       "  </tbody>\n",
       "</table>\n",
       "</div>"
      ],
      "text/plain": [
       "          label                                           ans_text\n",
       "3816  ai_answer  Привет! Я бы посоветовал прочитать книгу \"Моск...\n",
       "2920  hu_answer  Про идентичность. )\\nЯ как-то проектировала в ...\n",
       "272   hu_answer  By manually computing the similarity and playi...\n",
       "4397  ai_answer  LINQ methods have different run-time complexit...\n",
       "3146  ai_answer  Yes, it is possible to use a Twitter timeline ..."
      ]
     },
     "execution_count": 3,
     "metadata": {},
     "output_type": "execute_result"
    }
   ],
   "source": [
    "def clean_df(df):\n",
    "    df = df.drop(['q_title', 'q_id', 'line_id'], axis=1)\n",
    "    return df\n",
    "\n",
    "train_src = \"./codenrock_ds/TextGenerationDetection/train.csv\"\n",
    "test_src = \"./codenrock_ds/TextGenerationDetection/test.csv\"\n",
    "df = pd.read_csv(train_src)\n",
    "testing_df = pd.read_csv(test_src)\n",
    "\n",
    "df = clean_df(df)\n",
    "testing_df = clean_df(testing_df)\n",
    "train, valid, test = numpy.split(df.sample(frac=1), [int(0.6 * len(df)), int(0.8 * len(df))])\n",
    "train.head()\n"
   ]
  },
  {
   "cell_type": "code",
   "execution_count": 4,
   "id": "8e7d66dc-f831-4015-9827-f72b46e902fe",
   "metadata": {},
   "outputs": [],
   "source": [
    "def scale_dataset(data):\n",
    "    data[\"label\"] = (data[\"label\"] == \"hu_answer\").astype(int)\n",
    "    y = data[data.columns[0]].values\n",
    "    X = data.drop(data.columns[0], axis=1).values\n",
    "    data = numpy.hstack((X, numpy.reshape(y, (-1, 1))))\n",
    "    \n",
    "    return data, X, y"
   ]
  },
  {
   "cell_type": "code",
   "execution_count": 5,
   "id": "12e8de8c",
   "metadata": {},
   "outputs": [],
   "source": [
    "train_data, X_train, y_train = scale_dataset(train)\n",
    "valid_data, X_valid, y_valid = scale_dataset(valid)\n",
    "test_data, X_test, y_test = scale_dataset(train)"
   ]
  },
  {
   "cell_type": "code",
   "execution_count": 6,
   "id": "ae1715ff",
   "metadata": {},
   "outputs": [],
   "source": [
    "bert_preprocess = tensorflow_hub.KerasLayer(\"https://tfhub.dev/tensorflow/bert_en_uncased_preprocess/3\")\n",
    "bert_encoder = tensorflow_hub.KerasLayer(\"https://tfhub.dev/tensorflow/bert_en_uncased_L-12_H-768_A-12/4\")"
   ]
  },
  {
   "cell_type": "code",
   "execution_count": 7,
   "id": "6a1f95d4",
   "metadata": {},
   "outputs": [],
   "source": [
    "text_input = tf.keras.layers.Input(shape=(), dtype=tf.string, name=\"text\")\n",
    "preprocessed_text = bert_preprocess(text_input)\n",
    "outputs = bert_encoder(preprocessed_text)\n",
    "\n",
    "layer = tf.keras.layers.Dropout(0.1, name='dropout')(outputs['pooled_output'])\n",
    "layer = tf.keras.layers.Dense(1, activation='sigmoid', name='output')(layer)\n",
    "\n",
    "model = tf.keras.Model(inputs=[text_input], outputs=[layer])\n"
   ]
  },
  {
   "cell_type": "code",
   "execution_count": 10,
   "id": "1159619f",
   "metadata": {},
   "outputs": [],
   "source": [
    "model.compile(\n",
    "    optimizer='adam',\n",
    "    loss='binary_crossentropy',\n",
    "    metrics='accuracy'\n",
    ")"
   ]
  },
  {
   "cell_type": "code",
   "execution_count": 11,
   "id": "5214bdcb",
   "metadata": {},
   "outputs": [
    {
     "name": "stdout",
     "output_type": "stream",
     "text": [
      "Epoch 1/12\n",
      "91/91 [==============================] - 747s 8s/step - loss: 0.6531 - accuracy: 0.6012\n",
      "Epoch 2/12\n",
      "91/91 [==============================] - 714s 8s/step - loss: 0.6192 - accuracy: 0.6461\n",
      "Epoch 3/12\n",
      "91/91 [==============================] - 714s 8s/step - loss: 0.6094 - accuracy: 0.6444\n",
      "Epoch 4/12\n",
      "91/91 [==============================] - 723s 8s/step - loss: 0.5953 - accuracy: 0.6582\n",
      "Epoch 5/12\n",
      "91/91 [==============================] - 716s 8s/step - loss: 0.5825 - accuracy: 0.6759\n",
      "Epoch 6/12\n",
      "91/91 [==============================] - 717s 8s/step - loss: 0.5830 - accuracy: 0.6717\n",
      "Epoch 7/12\n",
      "91/91 [==============================] - 712s 8s/step - loss: 0.5696 - accuracy: 0.6825\n",
      "Epoch 8/12\n",
      "91/91 [==============================] - 712s 8s/step - loss: 0.5605 - accuracy: 0.6998\n",
      "Epoch 9/12\n",
      "91/91 [==============================] - 713s 8s/step - loss: 0.5642 - accuracy: 0.6918\n",
      "Epoch 10/12\n",
      "91/91 [==============================] - 714s 8s/step - loss: 0.5467 - accuracy: 0.7053\n",
      "Epoch 11/12\n",
      "91/91 [==============================] - 738s 8s/step - loss: 0.5499 - accuracy: 0.7060\n",
      "Epoch 12/12\n",
      "91/91 [==============================] - 874s 10s/step - loss: 0.5434 - accuracy: 0.7060\n",
      "31/31 [==============================] - 291s 9s/step - loss: 0.5347 - accuracy: 0.7199\n"
     ]
    }
   ],
   "source": [
    "model.fit(X_train, y_train, epochs=12)\n",
    "val_loss = model.evaluate(X_valid, y_valid)[0]"
   ]
  },
  {
   "cell_type": "code",
   "execution_count": 12,
   "id": "580a1081",
   "metadata": {},
   "outputs": [
    {
     "name": "stderr",
     "output_type": "stream",
     "text": [
      "WARNING:absl:Found untraced functions such as restored_function_body, restored_function_body, restored_function_body, restored_function_body, restored_function_body while saving (showing 5 of 366). These functions will not be directly callable after loading.\n"
     ]
    },
    {
     "name": "stdout",
     "output_type": "stream",
     "text": [
      "INFO:tensorflow:Assets written to: saved_model/assets\n"
     ]
    },
    {
     "name": "stderr",
     "output_type": "stream",
     "text": [
      "INFO:tensorflow:Assets written to: saved_model/assets\n"
     ]
    }
   ],
   "source": [
    "model.save('saved_model/')"
   ]
  },
  {
   "cell_type": "code",
   "execution_count": 14,
   "id": "5f8a2b1f",
   "metadata": {},
   "outputs": [
    {
     "name": "stdout",
     "output_type": "stream",
     "text": [
      "1/1 [==============================] - 7s 7s/step\n"
     ]
    }
   ],
   "source": [
    "test = model.predict([\"take ur pants up\"])"
   ]
  },
  {
   "cell_type": "code",
   "execution_count": 15,
   "id": "99358c5b",
   "metadata": {},
   "outputs": [
    {
     "data": {
      "text/plain": [
       "array([[0.46780157]], dtype=float32)"
      ]
     },
     "execution_count": 15,
     "metadata": {},
     "output_type": "execute_result"
    }
   ],
   "source": [
    "test"
   ]
  },
  {
   "cell_type": "code",
   "execution_count": 16,
   "id": "3d88cab8",
   "metadata": {},
   "outputs": [
    {
     "name": "stdout",
     "output_type": "stream",
     "text": [
      "1/1 [==============================] - 1s 629ms/step\n"
     ]
    }
   ],
   "source": [
    "test_gpt = model.predict([\"Лучшее время для посадки картофеля зависит от нескольких факторов:Сорт картофеля. Ранние сорта сажают в первых числах мая, среднеспелые - в середине мая. Поздние сорта имеют более высокую урожайностьРегион выращивания. В южных регионах картофель можно высаживать после 25 апреля, а максимально поздняя дата посадки - 10 июня. В более холодных регионах картофель сажают летом.Температура почвы.Сажать картофель следует, когда температура почвы на глубине 10-12 см составляет 7-8°C, что обычно бывает при установлении среднесуточной температуры воздуха выше 8°CТаким образом, оптимальное время для посадки картофеля в средней полосе России - это первая-вторая декада мая, когда почва прогрелась до необходимой температуры и нет угрозы заморозков. Ранние сорта можно сажать в конце апреля, а поздние - до середины июня\"])\n"
   ]
  },
  {
   "cell_type": "code",
   "execution_count": 17,
   "id": "5e05aaa5",
   "metadata": {},
   "outputs": [
    {
     "data": {
      "text/plain": [
       "array([[0.4607154]], dtype=float32)"
      ]
     },
     "execution_count": 17,
     "metadata": {},
     "output_type": "execute_result"
    }
   ],
   "source": [
    "test_gpt"
   ]
  },
  {
   "cell_type": "code",
   "execution_count": 18,
   "id": "ea6d17d6",
   "metadata": {},
   "outputs": [
    {
     "name": "stdout",
     "output_type": "stream",
     "text": [
      "1/1 [==============================] - 1s 637ms/step\n"
     ]
    }
   ],
   "source": [
    "test_human = model.predict([\"Здраств-те! Всю жизнь сажали в конце мая, а до 1 сентября выкапывали. Так, а что не нравится в посадке в апреле-мае? Почему сажать в июне, больше плюсов? Может лучше урожай?\"])"
   ]
  },
  {
   "cell_type": "code",
   "execution_count": 19,
   "id": "aa2fd8c2",
   "metadata": {},
   "outputs": [
    {
     "data": {
      "text/plain": [
       "array([[0.33273706]], dtype=float32)"
      ]
     },
     "execution_count": 19,
     "metadata": {},
     "output_type": "execute_result"
    }
   ],
   "source": [
    "test_human"
   ]
  },
  {
   "cell_type": "code",
   "execution_count": 20,
   "id": "edf5b5bb",
   "metadata": {},
   "outputs": [
    {
     "name": "stdout",
     "output_type": "stream",
     "text": [
      "1/1 [==============================] - 1s 875ms/step\n"
     ]
    }
   ],
   "source": [
    "another_test = model.predict([\"Лучшее время для посадки картофеля зависит от региона и климатических условий, но в целом оптимальным периодом считается середина-конец мая. В средней полосе России картофель обычно сажают в конце мая, когда почва прогреется до 8-10°C на глубине 10 см. Ранняя посадка в апреле-начале мая возможна, но требует укрытия всходов от возвратных заморозков. Поздняя посадка в июне-июле дает меньший урожай, так как растения не успевают сформировать клубни до наступления холодов. Для получения раннего урожая можно использовать ранние сорта и высаживать их в апреле под временные укрытия. Оптимальная глубина посадки - 8-10 см, расстояние между клубнями - 30-35 см, между рядами - 60-70 см. Соблюдение этих рекомендаций позволит получить хороший урожай картофеля.\"])"
   ]
  },
  {
   "cell_type": "code",
   "execution_count": 21,
   "id": "78e153a1",
   "metadata": {},
   "outputs": [
    {
     "data": {
      "text/plain": [
       "array([[0.55117077]], dtype=float32)"
      ]
     },
     "execution_count": 21,
     "metadata": {},
     "output_type": "execute_result"
    }
   ],
   "source": [
    "another_test"
   ]
  },
  {
   "cell_type": "code",
   "execution_count": 52,
   "id": "e711e464",
   "metadata": {},
   "outputs": [
    {
     "name": "stdout",
     "output_type": "stream",
     "text": [
      "1/1 [==============================] - 1s 584ms/step\n"
     ]
    }
   ],
   "source": [
    "yet_another_q = model.predict([\"я искуственный интеллект\"])"
   ]
  },
  {
   "cell_type": "code",
   "execution_count": 53,
   "id": "34a3faa0",
   "metadata": {},
   "outputs": [
    {
     "data": {
      "text/plain": [
       "array([[0.57606775]], dtype=float32)"
      ]
     },
     "execution_count": 53,
     "metadata": {},
     "output_type": "execute_result"
    }
   ],
   "source": [
    "yet_another_q"
   ]
  },
  {
   "cell_type": "code",
   "execution_count": 40,
   "id": "fae42ecc",
   "metadata": {},
   "outputs": [
    {
     "data": {
      "text/plain": [
       "array([[\"Well, this is a pretty basic question. You can add two numbers without using any arithmetic operator by using bitwise operators. Here's how you can do it:\\n\\nint add(int x, int y)\\n{\\n    while (y != 0)\\n    {\\n        int carry = x & y;\\n        x = x ^ y;\\n        y = carry << 1;\\n    }\\n    return x;\\n}\\n\\nThis code uses the bitwise AND operator to calculate the carry and the bitwise XOR operator to add the two numbers. The carry is then shifted to the left by one bit and added to the sum. This process is repeated until there is no carry left.\\n\\nSo, there you have it. A simple solution to add two numbers without using any arithmetic operator.\",\n",
       "        0],\n",
       "       [\"This is a counting problem, not a construction problem, so we can approach it using recursion. Since the problem has two natural parts, looking from the left and looking from the right, break it up and solve for just one part first.\\nLet b(N, L, R)\\nbe the number of solutions, and let f(N, L)\\nbe the number of arrangements of N\\nblocks so that L\\nare visible from the left. First think about f\\nbecause it's easier.\\nAPPROACH 1\\n\\n\\nLet's get the initial conditions and then go for recursion. If all are to be visible, then they must be ordered increasingly, so\\nf(N, N) = 1\\n\\n\\nIf there are suppose to be more visible blocks than available blocks, then nothing we can do, so\\nf(N, M) = 0 if N < M\\n\\n\\nIf only one block should be visible, then put the largest first and then the others can follow in any order, so\\nf(N,1) = (N-1)!\\n\\n\\nFinally, for the recursion, think about the position of the tallest block, say N\\nis in the k\\nth spot from the left. Then choose the blocks to come before it in (N-1 choose k-1)\\nways, arrange those blocks so that exactly L-1\\nare visible from the left, and order the N-k\\nblocks behind N\\nit in any you like, giving:\\nf(N, L) = sum_{1<=k<=N} (N-1 choose k-1) * f(k-1, L-1) * (N-k)! \\n\\n\\nIn fact, since f(x-1,L-1) = 0\\nfor x<L\\n, we may as well start k\\nat L\\ninstead of 1\\n:\\nf(N, L) = sum_{L<=k<=N} (N-1 choose k-1) * f(k-1, L-1) * (N-k)! \\n\\n\\nRight, so now that the easier bit is understood, let's use f\\nto solve for the harder bit b\\n. Again, use recursion based on the position of the tallest block, again say N\\nis in position k\\nfrom the left. As before, choose the blocks before it in N-1 choose k-1\\nways, but now think about each side of that block separately. For the k-1\\nblocks left of N\\n, make sure that exactly L-1\\nof them are visible. For the N-k\\nblocks right of N\\n, make sure that R-1\\nare visible and then reverse the order you would get from f\\n. Therefore the answer is:\\nb(N,L,R) = sum_{1<=k<=N}  (N-1 choose k-1) * f(k-1, L-1) * f(N-k, R-1)\\n\\n\\nwhere f\\nis completely worked out above. Again, many terms will be zero, so we only want to take k\\nsuch that k-1 >= L-1\\nand N-k >= R-1\\nto get\\nb(N,L,R) = sum_{L <= k <= N-R+1}  (N-1 choose k-1) * f(k-1, L-1) * f(N-k, R-1)\\n\\n\\n\\nAPPROACH 2\\n\\n\\nI thought about this problem again and found a somewhat nicer approach that avoids the summation.\\nIf you work the problem the opposite way, that is think of adding the smallest block instead of the largest block, then the recurrence for f\\nbecomes much simpler. In this case, with the same initial conditions, the recurrence is\\nf(N,L) = f(N-1,L-1) + (N-1) * f(N-1,L)\\n\\n\\nwhere the first term, f(N-1,L-1)\\n, comes from placing the smallest block in the leftmost position, thereby adding one more visible block (hence L\\ndecreases to L-1\\n), and the second term, (N-1) * f(N-1,L)\\n, accounts for putting the smallest block in any of the N-1\\nnon-front positions, in which case it is not visible (hence L\\nstays fixed).\\nThis recursion has the advantage of always decreasing N\\n, though it makes it more difficult to see some formulas, for example f(N,N-1) = (N choose 2)\\n. This formula is fairly easy to show from the previous formula, though I'm not certain how to derive it nicely from this simpler recurrence.\\nNow, to get back to the original problem and solve for b\\n, we can also take a different approach. Instead of the summation before, think of the visible blocks as coming in packets, so that if a block is visible from the left, then its packet consists of all blocks right of it and in front of the next block visible from the left, and similarly if a block is visible from the right then its packet contains all blocks left of it until the next block visible from the right. Do this for all but the tallest block. This makes for L+R\\npackets. Given the packets, you can move one from the left side to the right side simply by reversing the order of the blocks. Therefore the general case b(N,L,R)\\nactually reduces to solving the case b(N,L,1) = f(N,L)\\nand then choosing which of the packets to put on the left and which on the right. Therefore we have\\nb(N,L,R) = (L+R choose L) * f(N,L+R)\\n\\n\\nAgain, this reformulation has some advantages over the previous version. Putting these latter two formulas together, it's much easier to see the complexity of the overall problem. However, I still prefer the first approach for constructing solutions, though perhaps others will disagree. All in all it just goes to show there's more than one good way to approach the problem.\\n\\nWhat's with the Stirling numbers?\\n\\n\\nAs Jason points out, the f(N,L)\\nnumbers are precisely the (unsigned) Stirling numbers of the first kind\\n. One can see this immediately from the recursive formulas for each. However, it's always nice to be able to see it directly, so here goes.\\nThe (unsigned) Stirling numbers of the First Kind, denoted S(N,L)\\ncount the number of permutations of N\\ninto L\\ncycles. Given a permutation written in cycle notation, we write the permutation in canonical form by beginning the cycle with the largest number in that cycle and then ordering the cycles increasingly by the first number of the cycle. For example, the permutation\\n(2 6) (5 1 4) (3 7)\\n\\n\\nwould be written in canonical form as\\n(5 1 4) (6 2) (7 3)\\n\\n\\nNow drop the parentheses and notice that if these are the heights of the blocks, then the number of visible blocks from the left is exactly the number of cycles! This is because the first number of each cycle blocks all other numbers in the cycle, and the first number of each successive cycle is visible behind the previous cycle. Hence this problem is really just a sneaky way to ask you to find a formula for Stirling numbers.\\n\",\n",
       "        0],\n",
       "       ['нужно делать так как в Европе! И давайте задумаемся почему в Минске чище чем в Санкт-Петербурге ???? причина в людях а не в чиновниках!\\nВ Беларуссии люди никогда не гадят там где живут а мы? россияне?',\n",
       "        0],\n",
       "       ...,\n",
       "       ['Зайди на\\xa0http://3ddd.ru/ на форуме есть тема сколько брать за работу. Там очень много о том какая работа должна сколько стоить и почему. Цена зависит от качества рендера и сроков. Экстерьер стоит от 10 т. р. и до космоса. С интерьером обычно берут за метраж. И тут цены тоже очень варьируются. Надо смотреть на конкретный заказ. Если говорить об офисе то с опытом работы и портфолио зп начинается от 50 т.р',\n",
       "        0],\n",
       "       ['Сложно добавить что либо к исчерпывающему ответу предыдущего оратора.  Пожалуй только то, что существуют разные решения на суперконденсаторах. Как для легкового, так и для грузового транспорта и спецтехники. В основном на базе иностранных производителей. В России существует только одно предприятие, занимающееся производством ионисторов по собственной запатентованной технологии и решений на их базе. В том числе и стартерных систем. Технология отработана годами, опыт эксплуатации весьма обширен.\\nМногие задаются вопросом цены, но здесь необходимо понимать, для какой цели вы планируете установить данное устройство. Если просто \"чтобы было\" при езде по городу - оно вам ни к чему, если вы не живете в городе типа Норильска или Якутска, где зимой бывает -50С. А если путешествуете, да ещё и по пересечённой местности в дали от цивилизации - стартерная система на суперконденсаторах будет гарантом успешного пуска исправного двигателя в любых условиях и даже при полностью разряженной АКБ.',\n",
       "        0],\n",
       "       ['Yes, there is a similar functionality on Windows called \"ReadDirectoryChangesW\". It allows you to monitor changes to a directory, including file creations, deletions, and modifications. You can use it to build a similar functionality to inotify on Linux.',\n",
       "        0]], dtype=object)"
      ]
     },
     "execution_count": 40,
     "metadata": {},
     "output_type": "execute_result"
    }
   ],
   "source": [
    "test_data"
   ]
  },
  {
   "cell_type": "code",
   "execution_count": 39,
   "id": "f94e3bc1",
   "metadata": {},
   "outputs": [
    {
     "name": "stdout",
     "output_type": "stream",
     "text": [
      "1/1 [==============================] - 1s 518ms/step\n",
      "1/1 [==============================] - 1s 566ms/step\n",
      "1/1 [==============================] - 0s 496ms/step\n",
      "1/1 [==============================] - 0s 500ms/step\n",
      "1/1 [==============================] - 1s 516ms/step\n",
      "1/1 [==============================] - 0s 487ms/step\n",
      "1/1 [==============================] - 1s 501ms/step\n",
      "1/1 [==============================] - 1s 584ms/step\n",
      "1/1 [==============================] - 1s 590ms/step\n",
      "1/1 [==============================] - 1s 1s/step\n",
      "1/1 [==============================] - 1s 660ms/step\n",
      "1/1 [==============================] - 1s 648ms/step\n",
      "1/1 [==============================] - 1s 589ms/step\n",
      "1/1 [==============================] - 1s 520ms/step\n",
      "1/1 [==============================] - 1s 538ms/step\n",
      "1/1 [==============================] - 0s 499ms/step\n",
      "1/1 [==============================] - 1s 552ms/step\n",
      "1/1 [==============================] - 1s 503ms/step\n",
      "1/1 [==============================] - 1s 677ms/step\n",
      "1/1 [==============================] - 1s 507ms/step\n",
      "1/1 [==============================] - 1s 568ms/step\n",
      "1/1 [==============================] - 1s 560ms/step\n",
      "1/1 [==============================] - 1s 678ms/step\n",
      "1/1 [==============================] - 1s 710ms/step\n",
      "1/1 [==============================] - 1s 877ms/step\n",
      "1/1 [==============================] - 1s 948ms/step\n",
      "1/1 [==============================] - 1s 833ms/step\n",
      "1/1 [==============================] - 1s 787ms/step\n",
      "1/1 [==============================] - 1s 818ms/step\n",
      "1/1 [==============================] - 1s 783ms/step\n",
      "1/1 [==============================] - 1s 952ms/step\n",
      "1/1 [==============================] - 1s 786ms/step\n",
      "1/1 [==============================] - 1s 873ms/step\n",
      "1/1 [==============================] - 1s 926ms/step\n",
      "1/1 [==============================] - 1s 846ms/step\n",
      "1/1 [==============================] - 1s 718ms/step\n",
      "1/1 [==============================] - 1s 746ms/step\n",
      "1/1 [==============================] - 1s 786ms/step\n",
      "1/1 [==============================] - 1s 781ms/step\n",
      "1/1 [==============================] - 1s 632ms/step\n",
      "1/1 [==============================] - 1s 692ms/step\n",
      "1/1 [==============================] - 1s 707ms/step\n",
      "1/1 [==============================] - 1s 773ms/step\n",
      "1/1 [==============================] - 1s 756ms/step\n",
      "1/1 [==============================] - 1s 774ms/step\n",
      "1/1 [==============================] - 1s 722ms/step\n",
      "1/1 [==============================] - 1s 716ms/step\n",
      "1/1 [==============================] - 1s 741ms/step\n",
      "1/1 [==============================] - 1s 882ms/step\n",
      "1/1 [==============================] - 1s 765ms/step\n",
      "1/1 [==============================] - 1s 752ms/step\n",
      "1/1 [==============================] - 1s 747ms/step\n",
      "1/1 [==============================] - 1s 730ms/step\n",
      "1/1 [==============================] - 1s 768ms/step\n",
      "1/1 [==============================] - 1s 755ms/step\n",
      "1/1 [==============================] - 1s 788ms/step\n",
      "1/1 [==============================] - 1s 797ms/step\n",
      "1/1 [==============================] - 1s 764ms/step\n",
      "1/1 [==============================] - 1s 781ms/step\n",
      "1/1 [==============================] - 1s 608ms/step\n",
      "1/1 [==============================] - 1s 666ms/step\n",
      "1/1 [==============================] - 1s 673ms/step\n",
      "1/1 [==============================] - 1s 690ms/step\n",
      "1/1 [==============================] - 1s 623ms/step\n",
      "1/1 [==============================] - 1s 656ms/step\n",
      "1/1 [==============================] - 1s 531ms/step\n",
      "1/1 [==============================] - 1s 617ms/step\n",
      "1/1 [==============================] - 1s 536ms/step\n",
      "1/1 [==============================] - 1s 580ms/step\n",
      "1/1 [==============================] - 1s 589ms/step\n",
      "1/1 [==============================] - 1s 624ms/step\n",
      "1/1 [==============================] - 1s 545ms/step\n",
      "1/1 [==============================] - 1s 589ms/step\n",
      "1/1 [==============================] - 0s 497ms/step\n",
      "1/1 [==============================] - 1s 538ms/step\n",
      "1/1 [==============================] - 1s 568ms/step\n",
      "1/1 [==============================] - 1s 521ms/step\n",
      "1/1 [==============================] - 1s 585ms/step\n",
      "1/1 [==============================] - 1s 531ms/step\n",
      "1/1 [==============================] - 1s 527ms/step\n",
      "1/1 [==============================] - 0s 487ms/step\n",
      "1/1 [==============================] - 1s 648ms/step\n",
      "1/1 [==============================] - 1s 685ms/step\n",
      "1/1 [==============================] - 1s 576ms/step\n",
      "1/1 [==============================] - 1s 602ms/step\n",
      "1/1 [==============================] - 1s 518ms/step\n",
      "1/1 [==============================] - 1s 573ms/step\n",
      "1/1 [==============================] - 1s 528ms/step\n",
      "1/1 [==============================] - 1s 538ms/step\n",
      "1/1 [==============================] - 1s 541ms/step\n",
      "1/1 [==============================] - 1s 563ms/step\n",
      "1/1 [==============================] - 1s 553ms/step\n",
      "1/1 [==============================] - 1s 512ms/step\n",
      "1/1 [==============================] - 0s 488ms/step\n",
      "1/1 [==============================] - 0s 495ms/step\n",
      "1/1 [==============================] - 0s 472ms/step\n",
      "1/1 [==============================] - 0s 471ms/step\n",
      "1/1 [==============================] - 1s 509ms/step\n",
      "1/1 [==============================] - 1s 504ms/step\n",
      "1/1 [==============================] - 1s 741ms/step\n"
     ]
    }
   ],
   "source": []
  },
  {
   "cell_type": "code",
   "execution_count": 41,
   "id": "8a233e11",
   "metadata": {},
   "outputs": [
    {
     "name": "stdout",
     "output_type": "stream",
     "text": [
      "Epoch 1/2\n",
      "91/91 [==============================] - 811s 9s/step - loss: 0.5439 - accuracy: 0.7046\n",
      "Epoch 2/2\n",
      "91/91 [==============================] - 789s 9s/step - loss: 0.5349 - accuracy: 0.7112\n"
     ]
    },
    {
     "data": {
      "text/plain": [
       "<keras.callbacks.History at 0x221b78ffd00>"
      ]
     },
     "execution_count": 41,
     "metadata": {},
     "output_type": "execute_result"
    }
   ],
   "source": [
    "model.fit(X_train, y_train, epochs=2)"
   ]
  },
  {
   "cell_type": "code",
   "execution_count": 56,
   "id": "fca7c567",
   "metadata": {},
   "outputs": [
    {
     "name": "stderr",
     "output_type": "stream",
     "text": [
      "WARNING:absl:Found untraced functions such as restored_function_body, restored_function_body, restored_function_body, restored_function_body, restored_function_body while saving (showing 5 of 366). These functions will not be directly callable after loading.\n"
     ]
    },
    {
     "name": "stdout",
     "output_type": "stream",
     "text": [
      "INFO:tensorflow:Assets written to: newmodelgptohu/assets\n"
     ]
    },
    {
     "name": "stderr",
     "output_type": "stream",
     "text": [
      "INFO:tensorflow:Assets written to: newmodelgptohu/assets\n"
     ]
    }
   ],
   "source": [
    "model.save('newmodelgptohu/')"
   ]
  },
  {
   "cell_type": "code",
   "execution_count": 9,
   "id": "57ec669d",
   "metadata": {},
   "outputs": [],
   "source": [
    "model = tf.keras.models.load_model('newmodelgptohu')"
   ]
  },
  {
   "cell_type": "code",
   "execution_count": 10,
   "id": "43ddcbc2",
   "metadata": {},
   "outputs": [
    {
     "name": "stdout",
     "output_type": "stream",
     "text": [
      "10/91 [==>...........................] - ETA: 15:07"
     ]
    }
   ],
   "source": [
    "from sklearn.metrics import classification_report\n",
    "y_train_predict = model.predict(X_train)"
   ]
  },
  {
   "cell_type": "code",
   "execution_count": null,
   "id": "70eea599",
   "metadata": {},
   "outputs": [],
   "source": [
    "classification_report(y_train_predict, y_train)\n"
   ]
  }
 ],
 "metadata": {
  "kernelspec": {
   "display_name": "Python 3 (ipykernel)",
   "language": "python",
   "name": "python3"
  },
  "language_info": {
   "codemirror_mode": {
    "name": "ipython",
    "version": 3
   },
   "file_extension": ".py",
   "mimetype": "text/x-python",
   "name": "python",
   "nbconvert_exporter": "python",
   "pygments_lexer": "ipython3",
   "version": "3.10.4"
  }
 },
 "nbformat": 4,
 "nbformat_minor": 5
}
